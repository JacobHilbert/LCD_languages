{
 "cells": [
  {
   "cell_type": "markdown",
   "metadata": {},
   "source": [
    "# LCD Language Analysis"
   ]
  },
  {
   "cell_type": "markdown",
   "metadata": {},
   "source": [
    "## Graphics design"
   ]
  },
  {
   "cell_type": "code",
   "execution_count": 17,
   "metadata": {},
   "outputs": [
    {
     "data": {
      "text/html": [
       "<div><img alt=\"Output\" src=\"data:image/png;base64,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\"></div>"
      ],
      "text/plain": [
       "-Graphics-"
      ]
     },
     "execution_count": 24,
     "metadata": {
      "text/html": [],
      "text/plain": []
     },
     "output_type": "execute_result"
    }
   ],
   "source": [
    "model = {{0, 0}, {0.2, 0}, {0.3, 0.7}, {0.2, 1.4}, {0, 1.4}, {-0.1, 0.7}};\n",
    "\n",
    "LCD = <|\n",
    "   1 -> Polygon[model],\n",
    "   2 -> Polygon[Map[# + {1.7, 0} &] @ model],\n",
    "   3 -> Polygon[Map[RotationMatrix[\\[Pi]/2].(# + {-0.1, -1.65}) &] @ model],\n",
    "   4 -> Polygon[Map[RotationMatrix[\\[Pi]/2].(# + {-0.1 + 1.425, -1.65}) &] @ model],\n",
    "   5 -> Polygon[Map[# + {0, 1.45} &] @ model],\n",
    "   6 -> Polygon[Map[# + {1.7, 1.45} &] @ model],\n",
    "   7 -> Polygon[Map[RotationMatrix[Pi/2].(# + {-0.1 + 2 1.425, -1.65}) &] @ model]\n",
    "|>;\n",
    "\n",
    "back = Table[LCD[i], {i, 7}];\n",
    "\n",
    "LCDScreen[l_List] := Graphics[\n",
    "    Join @@ Table[\n",
    "    {\n",
    "         Black, \n",
    "         Translate[back, {(i - 1)*2.5, 0}], \n",
    "         Red, \n",
    "         Translate[LCD /@ l[[i]], {(i - 1)*2.5, 0}]\n",
    "    }, {i, Length[l]}], \n",
    "    Background -> GrayLevel[0.05], \n",
    "    ImageSize -> 100*Length[l]\n",
    "]\n",
    "\n",
    "LCDAlphabet = <|\n",
    "    \"a\" -> {1, 2, 4, 5, 6, 7}, \n",
    "    \"b\" -> {1, 2, 3, 4, 5}, \n",
    "    \"c\" -> {1, 3, 5, 7}, \n",
    "    \"d\" -> {1, 2, 3, 4, 6}, \n",
    "    \"e\" -> {1, 3, 4, 5, 7}, \n",
    "    \"f\" -> {1, 4, 5, 7}, \n",
    "    \"h\" -> {1, 2, 4, 5, 6}, \n",
    "    \"j\" -> {1, 2, 3, 6}, \n",
    "    \"l\" -> {1, 3, 5}, \n",
    "    \"n\" -> {1, 2, 4}, \n",
    "    \"o\" -> {1, 2, 3, 4}, \n",
    "    \"p\" -> {1, 4, 5, 6, 7}, \n",
    "    \"r\" -> {1, 4}, \n",
    "    \"s\" -> {2, 3, 4, 5, 7}, \n",
    "    \"t\" -> {1, 3, 4, 5}, \n",
    "    \"u\" -> {1, 2, 3, 5, 6}, \n",
    "    \"y\" -> {2, 3, 4, 5, 6}, \n",
    "    \"-\" -> {4}, \n",
    "    \"'\" -> {6}\n",
    "|>;\n",
    "\n",
    "admitted = StringReplace[StringJoin @@ Keys[LCDAlphabet], {\"-\" -> \"\\\\-\", \"'\" -> \"\\\\'\"}];\n",
    "\n",
    "PrintLCD[s_String] := LCDScreen[LCDAlphabet /@ Characters[ToLowerCase@s]]\n",
    "\n",
    "PrintLCD[\"error\"]"
   ]
  },
  {
   "cell_type": "markdown",
   "metadata": {},
   "source": [
    "## Check Aviable Languages"
   ]
  },
  {
   "cell_type": "markdown",
   "metadata": {},
   "source": [
    "Get the data from Wikipedia"
   ]
  },
  {
   "cell_type": "code",
   "execution_count": 12,
   "metadata": {},
   "outputs": [],
   "source": [
    "data = WikipediaData[\"List of languages by writing system\"];"
   ]
  },
  {
   "cell_type": "markdown",
   "metadata": {},
   "source": [
    "Isolate latin languages"
   ]
  },
  {
   "cell_type": "code",
   "execution_count": 13,
   "metadata": {},
   "outputs": [],
   "source": [
    "fromLatin = StringTake[data, {StringPosition[data, \"== Latin script ==\"][[1, 2]] + 2, StringLength[data]}];\n",
    "latin = StringTake[fromLatin, StringPosition[fromLatin, \"==\"][[1, 1]] - 1];"
   ]
  },
  {
   "cell_type": "markdown",
   "metadata": {},
   "source": [
    "Remove parenthesis annotations"
   ]
  },
  {
   "cell_type": "code",
   "execution_count": 15,
   "metadata": {},
   "outputs": [],
   "source": [
    "latin = StringReplace[latin, RegularExpression[\"\\\\([\\\\S\\\\s]+?\\\\)\"] -> \"\"];"
   ]
  },
  {
   "cell_type": "markdown",
   "metadata": {},
   "source": [
    "Split between spaces (linebreaks, spaces...)"
   ]
  },
  {
   "cell_type": "code",
   "execution_count": 16,
   "metadata": {},
   "outputs": [],
   "source": [
    "languages = StringSplit[StringReplace[latin, RegularExpression[\"\\\\s+\"] -> \",\"], \",\"];"
   ]
  },
  {
   "cell_type": "markdown",
   "metadata": {},
   "source": [
    "Filter languages that have `WordList[]`"
   ]
  },
  {
   "cell_type": "code",
   "execution_count": 25,
   "metadata": {},
   "outputs": [
    {
     "data": {
      "text/html": [
       "<div><pre style=\"&#102;&#111;&#110;&#116;&#45;&#102;&#97;&#109;&#105;&#108;&#121;&#58;&#32;&#34;&#67;&#111;&#117;&#114;&#105;&#101;&#114;&#32;&#78;&#101;&#119;&#34;&#44;&#67;&#111;&#117;&#114;&#105;&#101;&#114;&#44;&#109;&#111;&#110;&#111;&#115;&#112;&#97;&#99;&#101;&#59;\">&#123;&#66;&#114;&#101;&#116;&#111;&#110;&#44;&#32;&#67;&#97;&#116;&#97;&#108;&#97;&#110;&#44;&#32;&#67;&#114;&#111;&#97;&#116;&#105;&#97;&#110;&#44;&#32;&#68;&#97;&#110;&#105;&#115;&#104;&#44;&#32;&#68;&#117;&#116;&#99;&#104;&#44;&#32;&#69;&#110;&#103;&#108;&#105;&#115;&#104;&#44;&#32;&#69;&#115;&#112;&#101;&#114;&#97;&#110;&#116;&#111;&#44;&#32;&#70;&#97;&#114;&#111;&#101;&#115;&#101;&#44;&#32;&#70;&#105;&#110;&#110;&#105;&#115;&#104;&#44;&#32;&#70;&#114;&#101;&#110;&#99;&#104;&#44;&#32;&#10;&#32;&#10;&#62;&#32;&#32;&#32;&#71;&#97;&#108;&#105;&#99;&#105;&#97;&#110;&#44;&#32;&#71;&#101;&#114;&#109;&#97;&#110;&#44;&#32;&#72;&#117;&#110;&#103;&#97;&#114;&#105;&#97;&#110;&#44;&#32;&#73;&#116;&#97;&#108;&#105;&#97;&#110;&#44;&#32;&#76;&#97;&#116;&#105;&#110;&#44;&#32;&#80;&#111;&#108;&#105;&#115;&#104;&#44;&#32;&#80;&#111;&#114;&#116;&#117;&#103;&#117;&#101;&#115;&#101;&#44;&#32;&#83;&#112;&#97;&#110;&#105;&#115;&#104;&#44;&#32;&#83;&#119;&#101;&#100;&#105;&#115;&#104;&#44;&#32;&#10;&#32;&#10;&#62;&#32;&#32;&#32;&#65;&#114;&#97;&#98;&#105;&#99;&#125;</pre></div>"
      ],
      "text/plain": [
       "{Breton, Catalan, Croatian, Danish, Dutch, English, Esperanto, Faroese, Finnish, French, \n",
       " \n",
       ">   Galician, German, Hungarian, Italian, Latin, Polish, Portuguese, Spanish, Swedish, \n",
       " \n",
       ">   Arabic}"
      ]
     },
     "execution_count": 25,
     "metadata": {
      "text/html": [],
      "text/plain": []
     },
     "output_type": "execute_result"
    }
   ],
   "source": [
    "languages = Select[languages, Not[Quiet@Check[WordList[Language -> #], 1] === 1] &]"
   ]
  },
  {
   "cell_type": "markdown",
   "metadata": {},
   "source": [
    "Delete Arabic"
   ]
  },
  {
   "cell_type": "code",
   "execution_count": 26,
   "metadata": {},
   "outputs": [
    {
     "data": {
      "text/html": [
       "<div><pre style=\"&#102;&#111;&#110;&#116;&#45;&#102;&#97;&#109;&#105;&#108;&#121;&#58;&#32;&#34;&#67;&#111;&#117;&#114;&#105;&#101;&#114;&#32;&#78;&#101;&#119;&#34;&#44;&#67;&#111;&#117;&#114;&#105;&#101;&#114;&#44;&#109;&#111;&#110;&#111;&#115;&#112;&#97;&#99;&#101;&#59;\">&#123;&#66;&#114;&#101;&#116;&#111;&#110;&#44;&#32;&#67;&#97;&#116;&#97;&#108;&#97;&#110;&#44;&#32;&#67;&#114;&#111;&#97;&#116;&#105;&#97;&#110;&#44;&#32;&#68;&#97;&#110;&#105;&#115;&#104;&#44;&#32;&#68;&#117;&#116;&#99;&#104;&#44;&#32;&#69;&#110;&#103;&#108;&#105;&#115;&#104;&#44;&#32;&#69;&#115;&#112;&#101;&#114;&#97;&#110;&#116;&#111;&#44;&#32;&#70;&#97;&#114;&#111;&#101;&#115;&#101;&#44;&#32;&#70;&#105;&#110;&#110;&#105;&#115;&#104;&#44;&#32;&#70;&#114;&#101;&#110;&#99;&#104;&#44;&#32;&#10;&#32;&#10;&#62;&#32;&#32;&#32;&#71;&#97;&#108;&#105;&#99;&#105;&#97;&#110;&#44;&#32;&#71;&#101;&#114;&#109;&#97;&#110;&#44;&#32;&#72;&#117;&#110;&#103;&#97;&#114;&#105;&#97;&#110;&#44;&#32;&#73;&#116;&#97;&#108;&#105;&#97;&#110;&#44;&#32;&#76;&#97;&#116;&#105;&#110;&#44;&#32;&#80;&#111;&#108;&#105;&#115;&#104;&#44;&#32;&#80;&#111;&#114;&#116;&#117;&#103;&#117;&#101;&#115;&#101;&#44;&#32;&#83;&#112;&#97;&#110;&#105;&#115;&#104;&#44;&#32;&#83;&#119;&#101;&#100;&#105;&#115;&#104;&#125;</pre></div>"
      ],
      "text/plain": [
       "{Breton, Catalan, Croatian, Danish, Dutch, English, Esperanto, Faroese, Finnish, French, \n",
       " \n",
       ">   Galician, German, Hungarian, Italian, Latin, Polish, Portuguese, Spanish, Swedish}"
      ]
     },
     "execution_count": 26,
     "metadata": {
      "text/html": [],
      "text/plain": []
     },
     "output_type": "execute_result"
    }
   ],
   "source": [
    "languages = DeleteCases[languages, a_ /; a == \"Arabic\"]"
   ]
  },
  {
   "cell_type": "markdown",
   "metadata": {},
   "source": [
    "## The longest 10 words printable in LCD"
   ]
  },
  {
   "cell_type": "code",
   "execution_count": 36,
   "metadata": {},
   "outputs": [],
   "source": [
    "SetDirectory[\"results\"];"
   ]
  },
  {
   "cell_type": "code",
   "execution_count": 37,
   "metadata": {},
   "outputs": [],
   "source": [
    "LCDLanguage[lang_String] := Block[{filtered, words, current, i, selected},\n",
    "    filtered = Select[ToLowerCase /@ WordList[Language->lang], StringMatchQ[#,RegularExpression[\"[\"<>admitted<>\"]*\"]]&];\n",
    "    words = MaximalBy[filtered, StringLength, 80];\n",
    "    current = words; (* filter words that starts with the same 5 characters *)\n",
    "    i = 1;\n",
    "    While[i <= Length[current],\n",
    "        current = {current[[i]]}~Join~DeleteCases[current,a_/;StringPosition[a,StringTake[current[[i]], 5]] != {}];\n",
    "        i++\n",
    "    ];\n",
    "    selected = MaximalBy[current, StringLength, 10];\n",
    "    GraphicsGrid[\n",
    "    Transpose[{PrintLCD /@ selected}],\n",
    "    AspectRatio -> 1,\n",
    "    Background -> GrayLevel[0.05],\n",
    "    ImageSize -> 2000\n",
    "    ]\n",
    "]  "
   ]
  },
  {
   "cell_type": "code",
   "execution_count": 38,
   "metadata": {},
   "outputs": [
    {
     "name": "stdout",
     "output_type": "stream",
     "text": [
      "Exported Breton\n",
      "Exported Catalan\n",
      "Exported Croatian\n",
      "Exported Danish\n",
      "Exported Dutch\n",
      "Exported English\n",
      "Exported Esperanto\n",
      "Exported Faroese\n",
      "Exported Finnish\n",
      "Exported French\n",
      "Exported Galician\n",
      "Exported German\n",
      "Exported Hungarian\n",
      "Exported Italian\n",
      "Exported Latin\n",
      "Exported Polish\n",
      "Exported Portuguese\n",
      "Exported Spanish\n",
      "Exported Swedish\n"
     ]
    }
   ],
   "source": [
    "Do[\n",
    "    Export[languages[[n]] <> \".png\", LCDLanguage[languages[[n]]]];\n",
    "    Print[\"Exported \", languages[[n]]],\n",
    "{n, Length[languages]}]"
   ]
  },
  {
   "cell_type": "code",
   "execution_count": null,
   "metadata": {},
   "outputs": [],
   "source": []
  }
 ],
 "metadata": {
  "kernelspec": {
   "display_name": "Wolfram Language 12.1",
   "language": "Wolfram Language",
   "name": "wolframlanguage12.1"
  },
  "language_info": {
   "codemirror_mode": "mathematica",
   "file_extension": ".m",
   "mimetype": "application/vnd.wolfram.m",
   "name": "Wolfram Language",
   "pygments_lexer": "mathematica",
   "version": "12.0"
  }
 },
 "nbformat": 4,
 "nbformat_minor": 4
}
